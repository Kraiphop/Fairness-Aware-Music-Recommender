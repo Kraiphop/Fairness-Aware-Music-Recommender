{
  "cells": [
    {
      "cell_type": "markdown",
      "metadata": {},
      "source": [
        "# Data Exploration for Fairness-Aware Music Recommender\n",
        "\n",
        "This notebook explores the Last.fm dataset and analyzes bias patterns in music recommendation data.\n"
      ]
    },
    {
      "cell_type": "code",
      "execution_count": null,
      "metadata": {},
      "outputs": [],
      "source": [
        "import sys\n",
        "import os\n",
        "sys.path.append('../src')\n",
        "\n",
        "import pandas as pd\n",
        "import numpy as np\n",
        "import matplotlib.pyplot as plt\n",
        "import seaborn as sns\n",
        "from data_processing import LastFMDataProcessor\n",
        "from bias_detection import BiasDetector\n",
        "from baseline_model import train_baseline_models\n",
        "\n",
        "# Set up plotting\n",
        "plt.style.use('seaborn-v0_8')\n",
        "sns.set_palette(\"husl\")\n",
        "%matplotlib inline\n"
      ]
    },
    {
      "cell_type": "markdown",
      "metadata": {},
      "source": [
        "## 1. Load and Process Data\n"
      ]
    },
    {
      "cell_type": "code",
      "execution_count": null,
      "metadata": {},
      "outputs": [],
      "source": [
        "# Process the dataset\n",
        "processor = LastFMDataProcessor()\n",
        "processed_data = processor.process_all()\n",
        "\n",
        "print(f\"Dataset loaded successfully!\")\n",
        "print(f\"Users: {processed_data['n_users']}\")\n",
        "print(f\"Artists: {processed_data['n_artists']}\")\n",
        "print(f\"Interactions: {len(processed_data['interactions'])}\")\n"
      ]
    }
  ],
  "metadata": {
    "language_info": {
      "name": "python"
    }
  },
  "nbformat": 4,
  "nbformat_minor": 2
}
